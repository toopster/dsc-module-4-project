{
 "cells": [
  {
   "cell_type": "markdown",
   "metadata": {},
   "source": [
    "# Data Science - Module 4 - Final Project Submission\n",
    "\n",
    "* Student Name: **James Toop**\n",
    "* Student Pace: **Self Paced**\n",
    "* Scheduled project review date/time: TBC\n",
    "* Instructor name: **Jeff Herman**\n",
    "* Blog post URL: **https://toopster.github.io**"
   ]
  },
  {
   "cell_type": "markdown",
   "metadata": {},
   "source": [
    "## Table of Contents\n",
    "1. [Business Case](#business-case)\n",
    "2. [Data Discovery](#data-discovery)    \n",
    "3. [Deep Learning Neural Networks](#deep-learning-neural-networks)\n",
    "    1. [Baseline Densely Connected Network](#baseline-densely-connected-network)"
   ]
  },
  {
   "cell_type": "markdown",
   "metadata": {},
   "source": [
    "---\n",
    "<a name=\"business-case\"></a>\n",
    "## 1. Business Case and Project Purpose\n",
    "\n",
    "Lorem ipsum dolor sit amet, consectetur adipiscing elit, sed do eiusmod tempor incididunt ut labore et dolore magna aliqua. Ut enim ad minim veniam, quis nostrud exercitation ullamco laboris nisi ut aliquip ex ea commodo consequat. Duis aute irure dolor in reprehenderit in voluptate velit esse cillum dolore eu fugiat nulla pariatur. Excepteur sint occaecat cupidatat non proident, sunt in culpa qui officia deserunt mollit anim id est laborum."
   ]
  },
  {
   "cell_type": "markdown",
   "metadata": {},
   "source": [
    "---\n",
    "<a name=\"data-discovery\"></a>\n",
    "## 2. Data Discovery\n",
    "\n",
    "This section presents an initial step to investigate, understand and document the available data fields and relationships, highlighting any potential issues / shortcomings within the datasets supplied."
   ]
  },
  {
   "cell_type": "code",
   "execution_count": 1,
   "metadata": {},
   "outputs": [],
   "source": [
    "# Import the relevant libraries for data discovery\n",
    "import os"
   ]
  },
  {
   "cell_type": "markdown",
   "metadata": {},
   "source": [
    "#### Training Data"
   ]
  },
  {
   "cell_type": "code",
   "execution_count": 2,
   "metadata": {},
   "outputs": [],
   "source": [
    "# Specify directory structure for images\n",
    "train_folder = 'chest_xray/train/'\n",
    "train_normal = 'chest_xray/train/NORMAL/'\n",
    "train_pneumonia = 'chest_xray/train/PNEUMONIA/'\n",
    "\n",
    "# Store all the relevant image names in specific objects\n",
    "train_images_normal = [file for file in os.listdir(train_normal) if file.endswith('.jpeg')]\n",
    "train_images_pneumonia = [file for file in os.listdir(train_pneumonia) if file.endswith('.jpeg')]"
   ]
  },
  {
   "cell_type": "code",
   "execution_count": 3,
   "metadata": {},
   "outputs": [
    {
     "data": {
      "text/plain": [
       "['NORMAL2-IM-0927-0001.jpeg',\n",
       " 'NORMAL2-IM-1056-0001.jpeg',\n",
       " 'IM-0427-0001.jpeg',\n",
       " 'NORMAL2-IM-1260-0001.jpeg',\n",
       " 'IM-0656-0001-0001.jpeg',\n",
       " 'IM-0561-0001.jpeg',\n",
       " 'NORMAL2-IM-1110-0001.jpeg',\n",
       " 'IM-0757-0001.jpeg',\n",
       " 'NORMAL2-IM-1326-0001.jpeg',\n",
       " 'NORMAL2-IM-0736-0001.jpeg']"
      ]
     },
     "execution_count": 3,
     "metadata": {},
     "output_type": "execute_result"
    }
   ],
   "source": [
    "# Preview filenames for \"normal\" training images\n",
    "train_images_normal[0:10]"
   ]
  },
  {
   "cell_type": "code",
   "execution_count": 4,
   "metadata": {},
   "outputs": [
    {
     "data": {
      "text/plain": [
       "['person63_bacteria_306.jpeg',\n",
       " 'person1438_bacteria_3721.jpeg',\n",
       " 'person755_bacteria_2659.jpeg',\n",
       " 'person478_virus_975.jpeg',\n",
       " 'person661_bacteria_2553.jpeg',\n",
       " 'person276_bacteria_1296.jpeg',\n",
       " 'person1214_bacteria_3166.jpeg',\n",
       " 'person1353_virus_2333.jpeg',\n",
       " 'person26_bacteria_122.jpeg',\n",
       " 'person124_virus_238.jpeg']"
      ]
     },
     "execution_count": 4,
     "metadata": {},
     "output_type": "execute_result"
    }
   ],
   "source": [
    "# Preview filenames for \"pneumonia\" training images\n",
    "train_images_pneumonia[0:10]"
   ]
  },
  {
   "cell_type": "code",
   "execution_count": 5,
   "metadata": {},
   "outputs": [
    {
     "name": "stdout",
     "output_type": "stream",
     "text": [
      "Number of training chest x-ray images that are normal: 1341\n",
      "Number of training chest x-ray images that have pneumonia: 3875\n",
      "\n",
      "Total training chest x-ray images: 5216\n"
     ]
    }
   ],
   "source": [
    "print('Number of training chest x-ray images that are normal:', len(train_images_normal))\n",
    "print('Number of training chest x-ray images that have pneumonia:', len(train_images_pneumonia))\n",
    "print('\\nTotal training chest x-ray images:', len(train_images_normal)+len(train_images_pneumonia))"
   ]
  },
  {
   "cell_type": "markdown",
   "metadata": {},
   "source": [
    "#### Test Data"
   ]
  },
  {
   "cell_type": "code",
   "execution_count": 6,
   "metadata": {},
   "outputs": [
    {
     "name": "stdout",
     "output_type": "stream",
     "text": [
      "Number of test chest x-ray images that are normal: 234\n",
      "Number of test chest x-ray images that have pneumonia: 390\n",
      "\n",
      "Total test chest x-ray images: 624\n"
     ]
    }
   ],
   "source": [
    "# Specify directory structure for images\n",
    "test_folder = 'chest_xray/test/'\n",
    "test_normal = 'chest_xray/test/NORMAL/'\n",
    "test_pneumonia = 'chest_xray/test/PNEUMONIA/'\n",
    "\n",
    "# Store all the relevant image names in specific objects\n",
    "test_images_normal = [file for file in os.listdir(test_normal) if file.endswith('.jpeg')]\n",
    "test_images_pneumonia = [file for file in os.listdir(test_pneumonia) if file.endswith('.jpeg')]\n",
    "\n",
    "print('Number of test chest x-ray images that are normal:', len(test_images_normal))\n",
    "print('Number of test chest x-ray images that have pneumonia:', len(test_images_pneumonia))\n",
    "print('\\nTotal test chest x-ray images:', len(test_images_normal)+len(test_images_pneumonia))"
   ]
  },
  {
   "cell_type": "markdown",
   "metadata": {},
   "source": [
    "#### Validation Data"
   ]
  },
  {
   "cell_type": "code",
   "execution_count": 7,
   "metadata": {},
   "outputs": [
    {
     "name": "stdout",
     "output_type": "stream",
     "text": [
      "Number of validation chest x-ray images that are normal: 8\n",
      "Number of validation chest x-ray images that have pneumonia: 8\n",
      "\n",
      "Total validation chest x-ray images: 16\n"
     ]
    }
   ],
   "source": [
    "# Specify directory structure for images\n",
    "val_folder = 'chest_xray/val/'\n",
    "val_normal = 'chest_xray/val/NORMAL/'\n",
    "val_pneumonia = 'chest_xray/val/PNEUMONIA/'\n",
    "\n",
    "# Store all the relevant image names in specific objects\n",
    "val_images_normal = [file for file in os.listdir(val_normal) if file.endswith('.jpeg')]\n",
    "val_images_pneumonia = [file for file in os.listdir(val_pneumonia) if file.endswith('.jpeg')]\n",
    "\n",
    "print('Number of validation chest x-ray images that are normal:', len(val_images_normal))\n",
    "print('Number of validation chest x-ray images that have pneumonia:', len(val_images_pneumonia))\n",
    "print('\\nTotal validation chest x-ray images:', len(val_images_normal)+len(val_images_pneumonia))"
   ]
  },
  {
   "cell_type": "markdown",
   "metadata": {},
   "source": [
    "---\n",
    "<a name=\"deep-learning-neural-networks\"></a>\n",
    "# 3. Deep Learning Neural Networks"
   ]
  },
  {
   "cell_type": "markdown",
   "metadata": {},
   "source": [
    "<a name=\"baseline-densely-connected-network\"></a>\n",
    "### 3A. Baseline Densely Connected Network"
   ]
  },
  {
   "cell_type": "code",
   "execution_count": 8,
   "metadata": {},
   "outputs": [
    {
     "name": "stderr",
     "output_type": "stream",
     "text": [
      "Using TensorFlow backend.\n"
     ]
    }
   ],
   "source": [
    "# Import the relevant libraries for creating neural networks\n",
    "import time\n",
    "import matplotlib.pyplot as plt\n",
    "import scipy\n",
    "import numpy as np\n",
    "from PIL import Image\n",
    "from scipy import ndimage\n",
    "from keras.preprocessing.image import ImageDataGenerator, array_to_img, img_to_array, load_img\n",
    "\n",
    "np.random.seed(123)"
   ]
  },
  {
   "cell_type": "markdown",
   "metadata": {},
   "source": [
    "**NOTE:**\n",
    "Need to better understand these preprocessing steps >>>"
   ]
  },
  {
   "cell_type": "code",
   "execution_count": 9,
   "metadata": {},
   "outputs": [
    {
     "name": "stdout",
     "output_type": "stream",
     "text": [
      "Found 5216 images belonging to 2 classes.\n",
      "Found 624 images belonging to 2 classes.\n",
      "Found 16 images belonging to 2 classes.\n"
     ]
    }
   ],
   "source": [
    "# Get all the data in the directory chest_xrays/train (5216 images), and reshape them\n",
    "train_generator = ImageDataGenerator(rescale=1./255).flow_from_directory(\n",
    "        train_folder, \n",
    "        target_size = (64, 64), \n",
    "        batch_size = 5216)\n",
    "\n",
    "# Get all the data in the directory chest_xrays/test (624 images), and reshape them\n",
    "test_generator = ImageDataGenerator(rescale=1./255).flow_from_directory(\n",
    "        test_folder, \n",
    "        target_size = (64, 64), \n",
    "        batch_size = 624) \n",
    "\n",
    "# Get all the data in the directory chest_xrays/validation (16 images), and reshape them\n",
    "val_generator = ImageDataGenerator(rescale=1./255).flow_from_directory(\n",
    "        val_folder, \n",
    "        target_size = (64, 64), \n",
    "        batch_size = 16)"
   ]
  },
  {
   "cell_type": "code",
   "execution_count": 10,
   "metadata": {},
   "outputs": [],
   "source": [
    "# Create the datasets\n",
    "train_images, train_labels = next(train_generator)\n",
    "test_images, test_labels = next(test_generator)\n",
    "val_images, val_labels = next(val_generator)"
   ]
  },
  {
   "cell_type": "code",
   "execution_count": 11,
   "metadata": {},
   "outputs": [
    {
     "name": "stdout",
     "output_type": "stream",
     "text": [
      "Number of training samples: 5216\n",
      "Number of testing samples: 624\n",
      "Number of validation samples: 16\n",
      "train_images shape: (5216, 64, 64, 3)\n",
      "train_labels shape: (5216, 2)\n",
      "test_images shape: (624, 64, 64, 3)\n",
      "test_labels shape: (624, 2)\n",
      "val_images shape: (16, 64, 64, 3)\n",
      "val_labels shape: (16, 2)\n"
     ]
    }
   ],
   "source": [
    "# Explore the dataset again\n",
    "m_train = train_images.shape[0]\n",
    "num_px = train_images.shape[1]\n",
    "m_test = test_images.shape[0]\n",
    "m_val = val_images.shape[0]\n",
    "\n",
    "print (\"Number of training samples: \" + str(m_train))\n",
    "print (\"Number of testing samples: \" + str(m_test))\n",
    "print (\"Number of validation samples: \" + str(m_val))\n",
    "print (\"train_images shape: \" + str(train_images.shape))\n",
    "print (\"train_labels shape: \" + str(train_labels.shape))\n",
    "print (\"test_images shape: \" + str(test_images.shape))\n",
    "print (\"test_labels shape: \" + str(test_labels.shape))\n",
    "print (\"val_images shape: \" + str(val_images.shape))\n",
    "print (\"val_labels shape: \" + str(val_labels.shape))"
   ]
  },
  {
   "cell_type": "code",
   "execution_count": 12,
   "metadata": {},
   "outputs": [
    {
     "name": "stdout",
     "output_type": "stream",
     "text": [
      "(5216, 12288)\n",
      "(624, 12288)\n",
      "(16, 12288)\n"
     ]
    }
   ],
   "source": [
    "train_img = train_images.reshape(train_images.shape[0], -1)\n",
    "test_img = test_images.reshape(test_images.shape[0], -1)\n",
    "val_img = val_images.reshape(val_images.shape[0], -1)\n",
    "\n",
    "print(train_img.shape)\n",
    "print(test_img.shape)\n",
    "print(val_img.shape)"
   ]
  },
  {
   "cell_type": "code",
   "execution_count": 13,
   "metadata": {},
   "outputs": [],
   "source": [
    "train_y = np.reshape(train_labels[:,0], (5216,1))\n",
    "test_y = np.reshape(test_labels[:,0], (624,1))\n",
    "val_y = np.reshape(val_labels[:,0], (16,1))"
   ]
  },
  {
   "cell_type": "code",
   "execution_count": 14,
   "metadata": {},
   "outputs": [],
   "source": [
    "# Build a baseline fully connected model\n",
    "from keras import models\n",
    "from keras import layers\n",
    "np.random.seed(123)\n",
    "model = models.Sequential()\n",
    "model.add(layers.Dense(20, activation='relu', input_shape=(12288,))) # 2 hidden layers\n",
    "model.add(layers.Dense(7, activation='relu'))\n",
    "model.add(layers.Dense(5, activation='relu'))\n",
    "model.add(layers.Dense(1, activation='sigmoid'))"
   ]
  },
  {
   "cell_type": "code",
   "execution_count": 15,
   "metadata": {},
   "outputs": [
    {
     "name": "stdout",
     "output_type": "stream",
     "text": [
      "Train on 5216 samples, validate on 16 samples\n",
      "Epoch 1/50\n",
      "5216/5216 [==============================] - 1s 261us/step - loss: 0.4863 - acc: 0.7768 - val_loss: 1.4116 - val_acc: 0.5000\n",
      "Epoch 2/50\n",
      "5216/5216 [==============================] - 1s 191us/step - loss: 0.3275 - acc: 0.8646 - val_loss: 0.5753 - val_acc: 0.8125\n",
      "Epoch 3/50\n",
      "5216/5216 [==============================] - 1s 217us/step - loss: 0.2505 - acc: 0.8992 - val_loss: 0.4177 - val_acc: 0.7500\n",
      "Epoch 4/50\n",
      "5216/5216 [==============================] - 1s 196us/step - loss: 0.2082 - acc: 0.9181 - val_loss: 0.7477 - val_acc: 0.6875\n",
      "Epoch 5/50\n",
      "5216/5216 [==============================] - 1s 201us/step - loss: 0.1958 - acc: 0.9239 - val_loss: 0.7097 - val_acc: 0.6875\n",
      "Epoch 6/50\n",
      "5216/5216 [==============================] - 1s 187us/step - loss: 0.1785 - acc: 0.9281 - val_loss: 0.4374 - val_acc: 0.8125\n",
      "Epoch 7/50\n",
      "5216/5216 [==============================] - 1s 190us/step - loss: 0.1674 - acc: 0.9352 - val_loss: 0.7379 - val_acc: 0.6875\n",
      "Epoch 8/50\n",
      "5216/5216 [==============================] - 1s 194us/step - loss: 0.1456 - acc: 0.9436 - val_loss: 0.2554 - val_acc: 0.9375\n",
      "Epoch 9/50\n",
      "5216/5216 [==============================] - 1s 205us/step - loss: 0.1620 - acc: 0.9340 - val_loss: 0.3165 - val_acc: 0.8750\n",
      "Epoch 10/50\n",
      "5216/5216 [==============================] - 1s 214us/step - loss: 0.1569 - acc: 0.9406 - val_loss: 3.6399 - val_acc: 0.5000\n",
      "Epoch 11/50\n",
      "5216/5216 [==============================] - 1s 247us/step - loss: 0.1510 - acc: 0.9427 - val_loss: 0.4584 - val_acc: 0.8125\n",
      "Epoch 12/50\n",
      "5216/5216 [==============================] - 1s 198us/step - loss: 0.1280 - acc: 0.9505 - val_loss: 0.8079 - val_acc: 0.6875\n",
      "Epoch 13/50\n",
      "5216/5216 [==============================] - 1s 189us/step - loss: 0.1397 - acc: 0.9482 - val_loss: 0.2510 - val_acc: 0.9375\n",
      "Epoch 14/50\n",
      "5216/5216 [==============================] - 1s 191us/step - loss: 0.1290 - acc: 0.9492 - val_loss: 0.3136 - val_acc: 0.9375\n",
      "Epoch 15/50\n",
      "5216/5216 [==============================] - 1s 189us/step - loss: 0.1298 - acc: 0.9480 - val_loss: 0.2374 - val_acc: 0.9375\n",
      "Epoch 16/50\n",
      "5216/5216 [==============================] - 1s 189us/step - loss: 0.1259 - acc: 0.9544 - val_loss: 0.2916 - val_acc: 0.9375\n",
      "Epoch 17/50\n",
      "5216/5216 [==============================] - 1s 192us/step - loss: 0.1237 - acc: 0.9526 - val_loss: 0.2363 - val_acc: 0.8750\n",
      "Epoch 18/50\n",
      "5216/5216 [==============================] - 1s 193us/step - loss: 0.1228 - acc: 0.9526 - val_loss: 0.2404 - val_acc: 0.9375\n",
      "Epoch 19/50\n",
      "5216/5216 [==============================] - 1s 227us/step - loss: 0.1262 - acc: 0.9532 - val_loss: 0.5352 - val_acc: 0.8125\n",
      "Epoch 20/50\n",
      "5216/5216 [==============================] - 1s 239us/step - loss: 0.1222 - acc: 0.9546 - val_loss: 0.1974 - val_acc: 0.9375\n",
      "Epoch 21/50\n",
      "5216/5216 [==============================] - 1s 210us/step - loss: 0.1229 - acc: 0.9517 - val_loss: 0.2905 - val_acc: 0.9375\n",
      "Epoch 22/50\n",
      "5216/5216 [==============================] - 1s 202us/step - loss: 0.1123 - acc: 0.9588 - val_loss: 0.3050 - val_acc: 0.9375\n",
      "Epoch 23/50\n",
      "5216/5216 [==============================] - 1s 193us/step - loss: 0.1165 - acc: 0.9563 - val_loss: 0.3600 - val_acc: 0.8750\n",
      "Epoch 24/50\n",
      "5216/5216 [==============================] - 1s 193us/step - loss: 0.1093 - acc: 0.9584 - val_loss: 0.6750 - val_acc: 0.6875\n",
      "Epoch 25/50\n",
      "5216/5216 [==============================] - 1s 192us/step - loss: 0.1038 - acc: 0.9584 - val_loss: 0.5047 - val_acc: 0.8125\n",
      "Epoch 26/50\n",
      "5216/5216 [==============================] - 1s 190us/step - loss: 0.1250 - acc: 0.9500 - val_loss: 0.2642 - val_acc: 0.9375\n",
      "Epoch 27/50\n",
      "5216/5216 [==============================] - 1s 190us/step - loss: 0.1099 - acc: 0.9584 - val_loss: 0.3258 - val_acc: 0.9375\n",
      "Epoch 28/50\n",
      "5216/5216 [==============================] - 1s 195us/step - loss: 0.1098 - acc: 0.9586 - val_loss: 0.4222 - val_acc: 0.8125\n",
      "Epoch 29/50\n",
      "5216/5216 [==============================] - 1s 191us/step - loss: 0.1059 - acc: 0.9611 - val_loss: 0.2404 - val_acc: 0.9375\n",
      "Epoch 30/50\n",
      "5216/5216 [==============================] - 1s 190us/step - loss: 0.1108 - acc: 0.9595 - val_loss: 0.4991 - val_acc: 0.8125\n",
      "Epoch 31/50\n",
      "5216/5216 [==============================] - 1s 191us/step - loss: 0.1076 - acc: 0.9592 - val_loss: 0.4002 - val_acc: 0.8125\n",
      "Epoch 32/50\n",
      "5216/5216 [==============================] - 1s 192us/step - loss: 0.1035 - acc: 0.9607 - val_loss: 0.5930 - val_acc: 0.6875\n",
      "Epoch 33/50\n",
      "5216/5216 [==============================] - 1s 193us/step - loss: 0.1016 - acc: 0.9617 - val_loss: 0.3610 - val_acc: 0.8750\n",
      "Epoch 34/50\n",
      "5216/5216 [==============================] - 1s 196us/step - loss: 0.1043 - acc: 0.9609 - val_loss: 0.3565 - val_acc: 0.8750\n",
      "Epoch 35/50\n",
      "5216/5216 [==============================] - 1s 208us/step - loss: 0.1081 - acc: 0.9594 - val_loss: 0.4103 - val_acc: 0.8125\n",
      "Epoch 36/50\n",
      "5216/5216 [==============================] - 1s 190us/step - loss: 0.0968 - acc: 0.9664 - val_loss: 0.5905 - val_acc: 0.6875\n",
      "Epoch 37/50\n",
      "5216/5216 [==============================] - 1s 190us/step - loss: 0.1042 - acc: 0.9594 - val_loss: 0.4998 - val_acc: 0.8125\n",
      "Epoch 38/50\n",
      "5216/5216 [==============================] - 1s 210us/step - loss: 0.1019 - acc: 0.9601 - val_loss: 0.2534 - val_acc: 0.9375\n",
      "Epoch 39/50\n",
      "5216/5216 [==============================] - 1s 201us/step - loss: 0.1009 - acc: 0.9620 - val_loss: 0.2930 - val_acc: 0.9375\n",
      "Epoch 40/50\n",
      "5216/5216 [==============================] - 1s 203us/step - loss: 0.1018 - acc: 0.9592 - val_loss: 0.3702 - val_acc: 0.8750\n",
      "Epoch 41/50\n",
      "5216/5216 [==============================] - 1s 202us/step - loss: 0.0956 - acc: 0.9640 - val_loss: 0.1998 - val_acc: 0.9375\n",
      "Epoch 42/50\n",
      "5216/5216 [==============================] - 1s 207us/step - loss: 0.1011 - acc: 0.9626 - val_loss: 0.2543 - val_acc: 0.9375\n",
      "Epoch 43/50\n",
      "5216/5216 [==============================] - 1s 217us/step - loss: 0.0907 - acc: 0.9645 - val_loss: 0.2355 - val_acc: 0.9375\n",
      "Epoch 44/50\n",
      "5216/5216 [==============================] - 1s 202us/step - loss: 0.1002 - acc: 0.9626 - val_loss: 0.4243 - val_acc: 0.8125\n",
      "Epoch 45/50\n",
      "5216/5216 [==============================] - 1s 228us/step - loss: 0.0960 - acc: 0.9643 - val_loss: 0.3784 - val_acc: 0.8750\n",
      "Epoch 46/50\n",
      "5216/5216 [==============================] - 1s 230us/step - loss: 0.0909 - acc: 0.9686 - val_loss: 0.6291 - val_acc: 0.6875\n",
      "Epoch 47/50\n",
      "5216/5216 [==============================] - 1s 229us/step - loss: 0.1137 - acc: 0.9576 - val_loss: 0.8144 - val_acc: 0.6875\n",
      "Epoch 48/50\n",
      "5216/5216 [==============================] - 1s 235us/step - loss: 0.0907 - acc: 0.9653 - val_loss: 0.3614 - val_acc: 0.8750\n",
      "Epoch 49/50\n",
      "5216/5216 [==============================] - 1s 208us/step - loss: 0.0927 - acc: 0.9661 - val_loss: 0.2132 - val_acc: 0.9375\n",
      "Epoch 50/50\n",
      "5216/5216 [==============================] - 1s 211us/step - loss: 0.0939 - acc: 0.9647 - val_loss: 0.4190 - val_acc: 0.8125\n"
     ]
    }
   ],
   "source": [
    "model.compile(optimizer='sgd',\n",
    "              loss='binary_crossentropy',\n",
    "              metrics=['accuracy'])\n",
    "\n",
    "history = model.fit(train_img,\n",
    "                    train_y,\n",
    "                    epochs=50,\n",
    "                    batch_size=32,\n",
    "                    validation_data=(val_img, val_y))"
   ]
  },
  {
   "cell_type": "code",
   "execution_count": 16,
   "metadata": {},
   "outputs": [
    {
     "name": "stdout",
     "output_type": "stream",
     "text": [
      "5216/5216 [==============================] - 1s 110us/step\n"
     ]
    },
    {
     "data": {
      "text/plain": [
       "[0.07591057675919193, 0.9727760736196319]"
      ]
     },
     "execution_count": 16,
     "metadata": {},
     "output_type": "execute_result"
    }
   ],
   "source": [
    "results_train = model.evaluate(train_img, train_y)\n",
    "results_train"
   ]
  },
  {
   "cell_type": "code",
   "execution_count": 17,
   "metadata": {},
   "outputs": [
    {
     "name": "stdout",
     "output_type": "stream",
     "text": [
      "624/624 [==============================] - 0s 128us/step\n"
     ]
    },
    {
     "data": {
      "text/plain": [
       "[1.0983491830336742, 0.7323717948717948]"
      ]
     },
     "execution_count": 17,
     "metadata": {},
     "output_type": "execute_result"
    }
   ],
   "source": [
    "results_test = model.evaluate(test_img, test_y)\n",
    "results_test"
   ]
  },
  {
   "cell_type": "code",
   "execution_count": null,
   "metadata": {},
   "outputs": [],
   "source": []
  }
 ],
 "metadata": {
  "kernelspec": {
   "display_name": "Python [conda env:learn-env] *",
   "language": "python",
   "name": "conda-env-learn-env-py"
  },
  "language_info": {
   "codemirror_mode": {
    "name": "ipython",
    "version": 3
   },
   "file_extension": ".py",
   "mimetype": "text/x-python",
   "name": "python",
   "nbconvert_exporter": "python",
   "pygments_lexer": "ipython3",
   "version": "3.6.9"
  }
 },
 "nbformat": 4,
 "nbformat_minor": 2
}
